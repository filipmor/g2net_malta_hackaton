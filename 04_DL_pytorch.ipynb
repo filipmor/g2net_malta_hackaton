{
 "cells": [
  {
   "cell_type": "code",
   "execution_count": 1,
   "metadata": {
    "ExecuteTime": {
     "end_time": "2019-12-15T21:40:48.631827Z",
     "start_time": "2019-12-15T21:40:44.529081Z"
    }
   },
   "outputs": [],
   "source": [
    "# Model architecture\n",
    "from tensorflow.keras.layers import Dense, Dropout, Conv2D, MaxPool2D, Flatten, SpatialDropout2D\n",
    "from tensorflow.keras.models import Sequential\n",
    "from tensorflow.keras import optimizers\n",
    "from tensorflow.keras.callbacks import Callback\n",
    "import tensorflow as tf\n",
    "\n",
    "# General packages\n",
    "import numpy as np\n",
    "import os\n",
    "import h5py\n",
    "import seaborn as sns\n",
    "import matplotlib.pyplot as plt\n",
    "import pandas as pd\n",
    "\n",
    "# Data preparation and validation packages\n",
    "from sklearn.preprocessing import LabelEncoder, OneHotEncoder, MinMaxScaler\n",
    "from sklearn import preprocessing\n",
    "from sklearn.metrics import confusion_matrix\n",
    "from sklearn.model_selection import train_test_split\n",
    "from scipy import signal\n",
    "\n",
    "from IPython.display import clear_output\n",
    "import warnings"
   ]
  },
  {
   "cell_type": "markdown",
   "metadata": {},
   "source": [
    "# import data"
   ]
  },
  {
   "cell_type": "code",
   "execution_count": 2,
   "metadata": {
    "ExecuteTime": {
     "end_time": "2019-12-15T21:40:48.647322Z",
     "start_time": "2019-12-15T21:40:48.634082Z"
    }
   },
   "outputs": [],
   "source": [
    "df = pd.read_csv('../data/df_meta_train.csv')"
   ]
  },
  {
   "cell_type": "code",
   "execution_count": 3,
   "metadata": {
    "ExecuteTime": {
     "end_time": "2019-12-15T21:40:48.665730Z",
     "start_time": "2019-12-15T21:40:48.649406Z"
    }
   },
   "outputs": [
    {
     "data": {
      "text/html": [
       "<div>\n",
       "<style scoped>\n",
       "    .dataframe tbody tr th:only-of-type {\n",
       "        vertical-align: middle;\n",
       "    }\n",
       "\n",
       "    .dataframe tbody tr th {\n",
       "        vertical-align: top;\n",
       "    }\n",
       "\n",
       "    .dataframe thead th {\n",
       "        text-align: right;\n",
       "    }\n",
       "</style>\n",
       "<table border=\"1\" class=\"dataframe\">\n",
       "  <thead>\n",
       "    <tr style=\"text-align: right;\">\n",
       "      <th></th>\n",
       "      <th>GPStime</th>\n",
       "      <th>peakFreq</th>\n",
       "      <th>snr</th>\n",
       "      <th>centralFreq</th>\n",
       "      <th>duration</th>\n",
       "      <th>bandwidth</th>\n",
       "      <th>id</th>\n",
       "      <th>ifo</th>\n",
       "      <th>label</th>\n",
       "      <th>label_name</th>\n",
       "      <th>label_text</th>\n",
       "    </tr>\n",
       "  </thead>\n",
       "  <tbody>\n",
       "    <tr>\n",
       "      <th>0</th>\n",
       "      <td>1.134478e+09</td>\n",
       "      <td>29.636</td>\n",
       "      <td>32.589</td>\n",
       "      <td>41.479</td>\n",
       "      <td>2.313</td>\n",
       "      <td>47.056068</td>\n",
       "      <td>wypbhS6TAa</td>\n",
       "      <td>H1</td>\n",
       "      <td>16</td>\n",
       "      <td>Scattered_Light</td>\n",
       "      <td>16_Scattered_Light</td>\n",
       "    </tr>\n",
       "    <tr>\n",
       "      <th>1</th>\n",
       "      <td>1.134478e+09</td>\n",
       "      <td>31.943</td>\n",
       "      <td>29.462</td>\n",
       "      <td>2532.243</td>\n",
       "      <td>3.000</td>\n",
       "      <td>5035.515137</td>\n",
       "      <td>aKFWKfLE8l</td>\n",
       "      <td>H1</td>\n",
       "      <td>16</td>\n",
       "      <td>Scattered_Light</td>\n",
       "      <td>16_Scattered_Light</td>\n",
       "    </tr>\n",
       "    <tr>\n",
       "      <th>2</th>\n",
       "      <td>1.137056e+09</td>\n",
       "      <td>32.552</td>\n",
       "      <td>28.537</td>\n",
       "      <td>1167.148</td>\n",
       "      <td>4.750</td>\n",
       "      <td>2324.383057</td>\n",
       "      <td>yWSM6mnbBM</td>\n",
       "      <td>H1</td>\n",
       "      <td>16</td>\n",
       "      <td>Scattered_Light</td>\n",
       "      <td>16_Scattered_Light</td>\n",
       "    </tr>\n",
       "    <tr>\n",
       "      <th>3</th>\n",
       "      <td>1.133676e+09</td>\n",
       "      <td>32.246</td>\n",
       "      <td>28.532</td>\n",
       "      <td>3262.662</td>\n",
       "      <td>2.891</td>\n",
       "      <td>6512.085938</td>\n",
       "      <td>0Ted9bxWAG</td>\n",
       "      <td>H1</td>\n",
       "      <td>16</td>\n",
       "      <td>Scattered_Light</td>\n",
       "      <td>16_Scattered_Light</td>\n",
       "    </tr>\n",
       "    <tr>\n",
       "      <th>4</th>\n",
       "      <td>1.136398e+09</td>\n",
       "      <td>137.711</td>\n",
       "      <td>26.100</td>\n",
       "      <td>1945.456</td>\n",
       "      <td>0.039</td>\n",
       "      <td>3760.898682</td>\n",
       "      <td>ysSzykoKTh</td>\n",
       "      <td>H1</td>\n",
       "      <td>15</td>\n",
       "      <td>Repeating_Blips</td>\n",
       "      <td>15_Repeating_Blips</td>\n",
       "    </tr>\n",
       "  </tbody>\n",
       "</table>\n",
       "</div>"
      ],
      "text/plain": [
       "        GPStime  peakFreq     snr  centralFreq  duration    bandwidth  \\\n",
       "0  1.134478e+09    29.636  32.589       41.479     2.313    47.056068   \n",
       "1  1.134478e+09    31.943  29.462     2532.243     3.000  5035.515137   \n",
       "2  1.137056e+09    32.552  28.537     1167.148     4.750  2324.383057   \n",
       "3  1.133676e+09    32.246  28.532     3262.662     2.891  6512.085938   \n",
       "4  1.136398e+09   137.711  26.100     1945.456     0.039  3760.898682   \n",
       "\n",
       "           id ifo  label       label_name          label_text  \n",
       "0  wypbhS6TAa  H1     16  Scattered_Light  16_Scattered_Light  \n",
       "1  aKFWKfLE8l  H1     16  Scattered_Light  16_Scattered_Light  \n",
       "2  yWSM6mnbBM  H1     16  Scattered_Light  16_Scattered_Light  \n",
       "3  0Ted9bxWAG  H1     16  Scattered_Light  16_Scattered_Light  \n",
       "4  ysSzykoKTh  H1     15  Repeating_Blips  15_Repeating_Blips  "
      ]
     },
     "execution_count": 3,
     "metadata": {},
     "output_type": "execute_result"
    }
   ],
   "source": [
    "df.head()"
   ]
  },
  {
   "cell_type": "code",
   "execution_count": 4,
   "metadata": {
    "ExecuteTime": {
     "end_time": "2019-12-15T21:40:48.671669Z",
     "start_time": "2019-12-15T21:40:48.667835Z"
    }
   },
   "outputs": [
    {
     "data": {
      "text/plain": [
       "(4163, 11)"
      ]
     },
     "execution_count": 4,
     "metadata": {},
     "output_type": "execute_result"
    }
   ],
   "source": [
    "df.shape"
   ]
  },
  {
   "cell_type": "code",
   "execution_count": 5,
   "metadata": {
    "ExecuteTime": {
     "end_time": "2019-12-15T21:40:48.701776Z",
     "start_time": "2019-12-15T21:40:48.673589Z"
    }
   },
   "outputs": [
    {
     "data": {
      "text/html": [
       "<div>\n",
       "<style scoped>\n",
       "    .dataframe tbody tr th:only-of-type {\n",
       "        vertical-align: middle;\n",
       "    }\n",
       "\n",
       "    .dataframe tbody tr th {\n",
       "        vertical-align: top;\n",
       "    }\n",
       "\n",
       "    .dataframe thead th {\n",
       "        text-align: right;\n",
       "    }\n",
       "</style>\n",
       "<table border=\"1\" class=\"dataframe\">\n",
       "  <thead>\n",
       "    <tr style=\"text-align: right;\">\n",
       "      <th></th>\n",
       "      <th>GPStime</th>\n",
       "      <th>peakFreq</th>\n",
       "      <th>snr</th>\n",
       "      <th>centralFreq</th>\n",
       "      <th>duration</th>\n",
       "      <th>bandwidth</th>\n",
       "      <th>label</th>\n",
       "    </tr>\n",
       "  </thead>\n",
       "  <tbody>\n",
       "    <tr>\n",
       "      <th>count</th>\n",
       "      <td>4.163000e+03</td>\n",
       "      <td>4163.000000</td>\n",
       "      <td>4163.000000</td>\n",
       "      <td>4163.000000</td>\n",
       "      <td>4163.000000</td>\n",
       "      <td>4163.000000</td>\n",
       "      <td>4163.000000</td>\n",
       "    </tr>\n",
       "    <tr>\n",
       "      <th>mean</th>\n",
       "      <td>1.132281e+09</td>\n",
       "      <td>161.965452</td>\n",
       "      <td>221.185942</td>\n",
       "      <td>1608.483391</td>\n",
       "      <td>1.945823</td>\n",
       "      <td>3109.075174</td>\n",
       "      <td>8.478021</td>\n",
       "    </tr>\n",
       "    <tr>\n",
       "      <th>std</th>\n",
       "      <td>3.078292e+06</td>\n",
       "      <td>266.921677</td>\n",
       "      <td>1900.504554</td>\n",
       "      <td>1345.861271</td>\n",
       "      <td>2.787374</td>\n",
       "      <td>2712.631225</td>\n",
       "      <td>5.209516</td>\n",
       "    </tr>\n",
       "    <tr>\n",
       "      <th>min</th>\n",
       "      <td>1.126403e+09</td>\n",
       "      <td>10.072000</td>\n",
       "      <td>7.501000</td>\n",
       "      <td>10.314000</td>\n",
       "      <td>0.010000</td>\n",
       "      <td>1.259180</td>\n",
       "      <td>1.000000</td>\n",
       "    </tr>\n",
       "    <tr>\n",
       "      <th>25%</th>\n",
       "      <td>1.129665e+09</td>\n",
       "      <td>30.687000</td>\n",
       "      <td>10.830000</td>\n",
       "      <td>300.035000</td>\n",
       "      <td>0.313000</td>\n",
       "      <td>512.830017</td>\n",
       "      <td>3.000000</td>\n",
       "    </tr>\n",
       "    <tr>\n",
       "      <th>50%</th>\n",
       "      <td>1.132683e+09</td>\n",
       "      <td>89.676000</td>\n",
       "      <td>15.847000</td>\n",
       "      <td>1265.191000</td>\n",
       "      <td>0.984000</td>\n",
       "      <td>2407.851807</td>\n",
       "      <td>8.000000</td>\n",
       "    </tr>\n",
       "    <tr>\n",
       "      <th>75%</th>\n",
       "      <td>1.134909e+09</td>\n",
       "      <td>183.495000</td>\n",
       "      <td>39.605000</td>\n",
       "      <td>2812.253000</td>\n",
       "      <td>2.338000</td>\n",
       "      <td>5493.939941</td>\n",
       "      <td>12.000000</td>\n",
       "    </tr>\n",
       "    <tr>\n",
       "      <th>max</th>\n",
       "      <td>1.137250e+09</td>\n",
       "      <td>2047.106000</td>\n",
       "      <td>81178.727000</td>\n",
       "      <td>4521.052000</td>\n",
       "      <td>42.156000</td>\n",
       "      <td>7946.482910</td>\n",
       "      <td>21.000000</td>\n",
       "    </tr>\n",
       "  </tbody>\n",
       "</table>\n",
       "</div>"
      ],
      "text/plain": [
       "            GPStime     peakFreq           snr  centralFreq     duration  \\\n",
       "count  4.163000e+03  4163.000000   4163.000000  4163.000000  4163.000000   \n",
       "mean   1.132281e+09   161.965452    221.185942  1608.483391     1.945823   \n",
       "std    3.078292e+06   266.921677   1900.504554  1345.861271     2.787374   \n",
       "min    1.126403e+09    10.072000      7.501000    10.314000     0.010000   \n",
       "25%    1.129665e+09    30.687000     10.830000   300.035000     0.313000   \n",
       "50%    1.132683e+09    89.676000     15.847000  1265.191000     0.984000   \n",
       "75%    1.134909e+09   183.495000     39.605000  2812.253000     2.338000   \n",
       "max    1.137250e+09  2047.106000  81178.727000  4521.052000    42.156000   \n",
       "\n",
       "         bandwidth        label  \n",
       "count  4163.000000  4163.000000  \n",
       "mean   3109.075174     8.478021  \n",
       "std    2712.631225     5.209516  \n",
       "min       1.259180     1.000000  \n",
       "25%     512.830017     3.000000  \n",
       "50%    2407.851807     8.000000  \n",
       "75%    5493.939941    12.000000  \n",
       "max    7946.482910    21.000000  "
      ]
     },
     "execution_count": 5,
     "metadata": {},
     "output_type": "execute_result"
    }
   ],
   "source": [
    "df.describe()"
   ]
  },
  {
   "cell_type": "markdown",
   "metadata": {},
   "source": [
    "# Prepare and Check data"
   ]
  },
  {
   "cell_type": "code",
   "execution_count": 6,
   "metadata": {
    "ExecuteTime": {
     "end_time": "2019-12-15T21:40:48.713502Z",
     "start_time": "2019-12-15T21:40:48.703684Z"
    }
   },
   "outputs": [
    {
     "name": "stdout",
     "output_type": "stream",
     "text": [
      "X : \n",
      "GPStime        4163\n",
      "peakFreq       4163\n",
      "snr            4163\n",
      "centralFreq    4163\n",
      "duration       4163\n",
      "bandwidth      4163\n",
      "dtype: int64\n",
      "\n",
      "Y: \n",
      "4163\n",
      "\n",
      "Distinct classes : 20\n"
     ]
    }
   ],
   "source": [
    "X = df.get(['GPStime','peakFreq','snr','centralFreq','duration','bandwidth'])\n",
    "Y = df.get('label')\n",
    "\n",
    "print('X : ')\n",
    "print(X.count())\n",
    "print()\n",
    "print('Y: ')\n",
    "print(Y.count())\n",
    "\n",
    "Y_labels = Y\n",
    "Y_count_labels = len(set(Y))\n",
    "\n",
    "print()\n",
    "print('Distinct classes :', Y_count_labels)"
   ]
  },
  {
   "cell_type": "markdown",
   "metadata": {},
   "source": [
    "# Data preparation\n",
    "## Sample using 1 entry\n",
    "Here I prepare the data for the model as was described in previous notebooks."
   ]
  },
  {
   "cell_type": "code",
   "execution_count": 7,
   "metadata": {
    "ExecuteTime": {
     "end_time": "2019-12-15T21:40:48.725269Z",
     "start_time": "2019-12-15T21:40:48.718149Z"
    }
   },
   "outputs": [],
   "source": [
    "def load_hdf(file_id, sample_rate = 4096.0):\n",
    "#     file_id = 'eCSCwevZuG'\n",
    "    hdf5_filename = [x for x in os.listdir('../data/hdf5/') if x.split('_')[1]==file_id][0]\n",
    "    data_dir = os.path.join(os.path.dirname(os.getcwd()),\"data\") + \"/hdf5\"\n",
    "    h5=h5py.File(os.path.join(data_dir,hdf5_filename) , 'r')\n",
    "    strain = np.array(h5[\"Strain\"][\"Strain\"][()])\n",
    "    h5.close()\n",
    "    return strain\n",
    "\n",
    "def spectrogram_from_file_id(file_id, sample_rate = 4096.0, k1 = 100/70, ):\n",
    "    ''' k1 = overlap factor - defines the portion of chunk that will be overlapped\n",
    "    '''\n",
    "#     file_id = 'eCSCwevZuG'\n",
    "    strain = load_hdf(file_id)\n",
    "    f, t, Sxx = signal.spectrogram(strain, window='hann', fs=sample_rate, nperseg=128, noverlap=128//k1, nfft=512)\n",
    "    return Sxx"
   ]
  },
  {
   "cell_type": "code",
   "execution_count": 8,
   "metadata": {
    "ExecuteTime": {
     "end_time": "2019-12-15T21:40:48.751401Z",
     "start_time": "2019-12-15T21:40:48.728338Z"
    }
   },
   "outputs": [],
   "source": [
    "file_id = os.listdir('../data/hdf5/')[0].split('_')[1]"
   ]
  },
  {
   "cell_type": "code",
   "execution_count": 9,
   "metadata": {
    "ExecuteTime": {
     "end_time": "2019-12-15T21:40:48.778417Z",
     "start_time": "2019-12-15T21:40:48.753211Z"
    }
   },
   "outputs": [],
   "source": [
    "strain = load_hdf(file_id)\n",
    "f, t, Sxx = signal.spectrogram(strain, window='hann', fs=4096.0, nperseg=128, noverlap=128//(100/70), nfft=512)    "
   ]
  },
  {
   "cell_type": "code",
   "execution_count": 10,
   "metadata": {
    "ExecuteTime": {
     "end_time": "2019-12-15T21:40:49.056657Z",
     "start_time": "2019-12-15T21:40:48.780761Z"
    }
   },
   "outputs": [
    {
     "data": {
      "image/png": "[encoded data removed]",
      "text/plain": [
       "<Figure size 432x288 with 1 Axes>"
      ]
     },
     "metadata": {
      "needs_background": "light"
     },
     "output_type": "display_data"
    }
   ],
   "source": [
    "plt.figure()\n",
    "log_sq_Sxx = np.log(np.sqrt(Sxx))\n",
    "plt.pcolormesh(t, f, log_sq_Sxx)\n",
    "plt.show()"
   ]
  },
  {
   "cell_type": "code",
   "execution_count": 11,
   "metadata": {
    "ExecuteTime": {
     "end_time": "2019-12-15T21:40:49.061501Z",
     "start_time": "2019-12-15T21:40:49.058399Z"
    }
   },
   "outputs": [
    {
     "data": {
      "text/plain": [
       "(257, 417)"
      ]
     },
     "execution_count": 11,
     "metadata": {},
     "output_type": "execute_result"
    }
   ],
   "source": [
    "log_sq_Sxx.shape"
   ]
  },
  {
   "cell_type": "markdown",
   "metadata": {},
   "source": [
    "You could either take `Sxx` or its' logarithmic value `log_sq_Sxx`"
   ]
  },
  {
   "cell_type": "markdown",
   "metadata": {},
   "source": [
    "## Get Dataframe with Spectrograms"
   ]
  },
  {
   "cell_type": "code",
   "execution_count": 12,
   "metadata": {
    "ExecuteTime": {
     "end_time": "2019-12-15T21:41:33.772064Z",
     "start_time": "2019-12-15T21:40:49.063012Z"
    }
   },
   "outputs": [],
   "source": [
    "df['Sxx'] = [spectrogram_from_file_id(file_id) for file_id in df['id']]"
   ]
  },
  {
   "cell_type": "code",
   "execution_count": 13,
   "metadata": {
    "ExecuteTime": {
     "end_time": "2019-12-15T21:41:38.271612Z",
     "start_time": "2019-12-15T21:41:33.773818Z"
    }
   },
   "outputs": [],
   "source": [
    "df['Sxx_log_sq'] = df['Sxx'].apply(lambda x: np.log(np.sqrt(x)))"
   ]
  },
  {
   "cell_type": "code",
   "execution_count": 14,
   "metadata": {
    "ExecuteTime": {
     "end_time": "2019-12-15T21:41:39.231651Z",
     "start_time": "2019-12-15T21:41:38.273725Z"
    }
   },
   "outputs": [
    {
     "data": {
      "text/html": [
       "<div>\n",
       "<style scoped>\n",
       "    .dataframe tbody tr th:only-of-type {\n",
       "        vertical-align: middle;\n",
       "    }\n",
       "\n",
       "    .dataframe tbody tr th {\n",
       "        vertical-align: top;\n",
       "    }\n",
       "\n",
       "    .dataframe thead th {\n",
       "        text-align: right;\n",
       "    }\n",
       "</style>\n",
       "<table border=\"1\" class=\"dataframe\">\n",
       "  <thead>\n",
       "    <tr style=\"text-align: right;\">\n",
       "      <th></th>\n",
       "      <th>GPStime</th>\n",
       "      <th>peakFreq</th>\n",
       "      <th>snr</th>\n",
       "      <th>centralFreq</th>\n",
       "      <th>duration</th>\n",
       "      <th>bandwidth</th>\n",
       "      <th>id</th>\n",
       "      <th>ifo</th>\n",
       "      <th>label</th>\n",
       "      <th>label_name</th>\n",
       "      <th>label_text</th>\n",
       "      <th>Sxx</th>\n",
       "      <th>Sxx_log_sq</th>\n",
       "    </tr>\n",
       "  </thead>\n",
       "  <tbody>\n",
       "    <tr>\n",
       "      <th>0</th>\n",
       "      <td>1.134478e+09</td>\n",
       "      <td>29.636</td>\n",
       "      <td>32.589</td>\n",
       "      <td>41.479</td>\n",
       "      <td>2.313</td>\n",
       "      <td>47.056068</td>\n",
       "      <td>wypbhS6TAa</td>\n",
       "      <td>H1</td>\n",
       "      <td>16</td>\n",
       "      <td>Scattered_Light</td>\n",
       "      <td>16_Scattered_Light</td>\n",
       "      <td>[[2.6736488959016263e-44, 6.312238229022627e-4...</td>\n",
       "      <td>[[-50.165149962316505, -48.58433433683601, -48...</td>\n",
       "    </tr>\n",
       "    <tr>\n",
       "      <th>1</th>\n",
       "      <td>1.134478e+09</td>\n",
       "      <td>31.943</td>\n",
       "      <td>29.462</td>\n",
       "      <td>2532.243</td>\n",
       "      <td>3.000</td>\n",
       "      <td>5035.515137</td>\n",
       "      <td>aKFWKfLE8l</td>\n",
       "      <td>H1</td>\n",
       "      <td>16</td>\n",
       "      <td>Scattered_Light</td>\n",
       "      <td>16_Scattered_Light</td>\n",
       "      <td>[[3.433352713146278e-49, 1.7778889565684834e-4...</td>\n",
       "      <td>[[-55.79656615277549, -49.217866158863025, -48...</td>\n",
       "    </tr>\n",
       "    <tr>\n",
       "      <th>2</th>\n",
       "      <td>1.137056e+09</td>\n",
       "      <td>32.552</td>\n",
       "      <td>28.537</td>\n",
       "      <td>1167.148</td>\n",
       "      <td>4.750</td>\n",
       "      <td>2324.383057</td>\n",
       "      <td>yWSM6mnbBM</td>\n",
       "      <td>H1</td>\n",
       "      <td>16</td>\n",
       "      <td>Scattered_Light</td>\n",
       "      <td>16_Scattered_Light</td>\n",
       "      <td>[[1.5914731607978794e-40, 3.0506386746347226e-...</td>\n",
       "      <td>[[-45.81937180812792, -46.64531892126921, -47....</td>\n",
       "    </tr>\n",
       "    <tr>\n",
       "      <th>3</th>\n",
       "      <td>1.133676e+09</td>\n",
       "      <td>32.246</td>\n",
       "      <td>28.532</td>\n",
       "      <td>3262.662</td>\n",
       "      <td>2.891</td>\n",
       "      <td>6512.085938</td>\n",
       "      <td>0Ted9bxWAG</td>\n",
       "      <td>H1</td>\n",
       "      <td>16</td>\n",
       "      <td>Scattered_Light</td>\n",
       "      <td>16_Scattered_Light</td>\n",
       "      <td>[[3.4586011606159855e-44, 8.177667182606772e-4...</td>\n",
       "      <td>[[-50.036439936627225, -48.45487603715141, -47...</td>\n",
       "    </tr>\n",
       "    <tr>\n",
       "      <th>4</th>\n",
       "      <td>1.136398e+09</td>\n",
       "      <td>137.711</td>\n",
       "      <td>26.100</td>\n",
       "      <td>1945.456</td>\n",
       "      <td>0.039</td>\n",
       "      <td>3760.898682</td>\n",
       "      <td>ysSzykoKTh</td>\n",
       "      <td>H1</td>\n",
       "      <td>15</td>\n",
       "      <td>Repeating_Blips</td>\n",
       "      <td>15_Repeating_Blips</td>\n",
       "      <td>[[7.622217270374716e-42, 1.0820963587412398e-4...</td>\n",
       "      <td>[[-47.3387532990069, -47.16354429007946, -46.1...</td>\n",
       "    </tr>\n",
       "  </tbody>\n",
       "</table>\n",
       "</div>"
      ],
      "text/plain": [
       "        GPStime  peakFreq     snr  centralFreq  duration    bandwidth  \\\n",
       "0  1.134478e+09    29.636  32.589       41.479     2.313    47.056068   \n",
       "1  1.134478e+09    31.943  29.462     2532.243     3.000  5035.515137   \n",
       "2  1.137056e+09    32.552  28.537     1167.148     4.750  2324.383057   \n",
       "3  1.133676e+09    32.246  28.532     3262.662     2.891  6512.085938   \n",
       "4  1.136398e+09   137.711  26.100     1945.456     0.039  3760.898682   \n",
       "\n",
       "           id ifo  label       label_name          label_text  \\\n",
       "0  wypbhS6TAa  H1     16  Scattered_Light  16_Scattered_Light   \n",
       "1  aKFWKfLE8l  H1     16  Scattered_Light  16_Scattered_Light   \n",
       "2  yWSM6mnbBM  H1     16  Scattered_Light  16_Scattered_Light   \n",
       "3  0Ted9bxWAG  H1     16  Scattered_Light  16_Scattered_Light   \n",
       "4  ysSzykoKTh  H1     15  Repeating_Blips  15_Repeating_Blips   \n",
       "\n",
       "                                                 Sxx  \\\n",
       "0  [[2.6736488959016263e-44, 6.312238229022627e-4...   \n",
       "1  [[3.433352713146278e-49, 1.7778889565684834e-4...   \n",
       "2  [[1.5914731607978794e-40, 3.0506386746347226e-...   \n",
       "3  [[3.4586011606159855e-44, 8.177667182606772e-4...   \n",
       "4  [[7.622217270374716e-42, 1.0820963587412398e-4...   \n",
       "\n",
       "                                          Sxx_log_sq  \n",
       "0  [[-50.165149962316505, -48.58433433683601, -48...  \n",
       "1  [[-55.79656615277549, -49.217866158863025, -48...  \n",
       "2  [[-45.81937180812792, -46.64531892126921, -47....  \n",
       "3  [[-50.036439936627225, -48.45487603715141, -47...  \n",
       "4  [[-47.3387532990069, -47.16354429007946, -46.1...  "
      ]
     },
     "execution_count": 14,
     "metadata": {},
     "output_type": "execute_result"
    }
   ],
   "source": [
    "df.head()"
   ]
  },
  {
   "cell_type": "markdown",
   "metadata": {},
   "source": [
    "## Min-Max Scaling"
   ]
  },
  {
   "cell_type": "code",
   "execution_count": 15,
   "metadata": {
    "ExecuteTime": {
     "end_time": "2019-12-15T21:41:45.074189Z",
     "start_time": "2019-12-15T21:41:39.233266Z"
    }
   },
   "outputs": [],
   "source": [
    "warnings.simplefilter(\"error\", \"RuntimeWarning\")\n",
    "\n",
    "error_spectrograms =[]\n",
    "for ii in range(df.shape[0]):\n",
    "    try:\n",
    "        preprocessing.minmax_scale(df['Sxx_log_sq'][ii])\n",
    "    except:\n",
    "        error_spectrograms.append(ii)"
   ]
  },
  {
   "cell_type": "code",
   "execution_count": 16,
   "metadata": {
    "ExecuteTime": {
     "end_time": "2019-12-15T21:41:45.079849Z",
     "start_time": "2019-12-15T21:41:45.076267Z"
    }
   },
   "outputs": [
    {
     "data": {
      "text/plain": [
       "[1611, 2428, 2639, 2793, 3265]"
      ]
     },
     "execution_count": 16,
     "metadata": {},
     "output_type": "execute_result"
    }
   ],
   "source": [
    "error_spectrograms"
   ]
  },
  {
   "cell_type": "code",
   "execution_count": 18,
   "metadata": {
    "ExecuteTime": {
     "end_time": "2019-12-15T21:41:45.098526Z",
     "start_time": "2019-12-15T21:41:45.087949Z"
    }
   },
   "outputs": [],
   "source": [
    "df.drop(index=error_spectrograms, inplace=True)"
   ]
  },
  {
   "cell_type": "code",
   "execution_count": 19,
   "metadata": {
    "ExecuteTime": {
     "end_time": "2019-12-15T21:41:45.103443Z",
     "start_time": "2019-12-15T21:41:45.100204Z"
    }
   },
   "outputs": [
    {
     "data": {
      "text/plain": [
       "(4158, 13)"
      ]
     },
     "execution_count": 19,
     "metadata": {},
     "output_type": "execute_result"
    }
   ],
   "source": [
    "df.shape"
   ]
  },
  {
   "cell_type": "code",
   "execution_count": 20,
   "metadata": {
    "ExecuteTime": {
     "end_time": "2019-12-15T21:41:52.339496Z",
     "start_time": "2019-12-15T21:41:45.105323Z"
    }
   },
   "outputs": [],
   "source": [
    "df['Sxx_log_sq_min_max'] = df['Sxx_log_sq'].apply(preprocessing.minmax_scale)"
   ]
  },
  {
   "cell_type": "code",
   "execution_count": 21,
   "metadata": {
    "ExecuteTime": {
     "end_time": "2019-12-15T21:41:52.343906Z",
     "start_time": "2019-12-15T21:41:52.341338Z"
    }
   },
   "outputs": [],
   "source": [
    "warnings.resetwarnings()"
   ]
  },
  {
   "cell_type": "markdown",
   "metadata": {},
   "source": [
    "## Reshape to tensor for NN"
   ]
  },
  {
   "cell_type": "code",
   "execution_count": 22,
   "metadata": {
    "ExecuteTime": {
     "end_time": "2019-12-15T21:41:52.360616Z",
     "start_time": "2019-12-15T21:41:52.351694Z"
    }
   },
   "outputs": [
    {
     "data": {
      "text/plain": [
       "(257, 417)"
      ]
     },
     "execution_count": 22,
     "metadata": {},
     "output_type": "execute_result"
    }
   ],
   "source": [
    "df['Sxx_log_sq_min_max'][0].shape"
   ]
  },
  {
   "cell_type": "code",
   "execution_count": 23,
   "metadata": {
    "ExecuteTime": {
     "end_time": "2019-12-15T21:42:10.345107Z",
     "start_time": "2019-12-15T21:41:52.369624Z"
    }
   },
   "outputs": [],
   "source": [
    "rescaled_data = np.reshape(np.rollaxis(np.dstack(df['Sxx_log_sq_min_max']), -1),\n",
    "                           (df.shape[0], df['Sxx_log_sq_min_max'][0].shape[0], df['Sxx_log_sq_min_max'][0].shape[1], 1))"
   ]
  },
  {
   "cell_type": "code",
   "execution_count": 24,
   "metadata": {
    "ExecuteTime": {
     "end_time": "2019-12-15T21:42:10.361421Z",
     "start_time": "2019-12-15T21:42:10.351142Z"
    }
   },
   "outputs": [
    {
     "data": {
      "text/plain": [
       "(4158, 257, 417, 1)"
      ]
     },
     "execution_count": 24,
     "metadata": {},
     "output_type": "execute_result"
    }
   ],
   "source": [
    "rescaled_data.shape"
   ]
  },
  {
   "cell_type": "markdown",
   "metadata": {},
   "source": [
    "## Convert labels to Targets"
   ]
  },
  {
   "cell_type": "code",
   "execution_count": 25,
   "metadata": {
    "ExecuteTime": {
     "end_time": "2019-12-15T21:42:10.374632Z",
     "start_time": "2019-12-15T21:42:10.364483Z"
    }
   },
   "outputs": [],
   "source": [
    "Y = df['label']\n",
    "Y_count_labels = len(set(Y))"
   ]
  },
  {
   "cell_type": "code",
   "execution_count": 26,
   "metadata": {
    "ExecuteTime": {
     "end_time": "2019-12-15T21:42:47.193335Z",
     "start_time": "2019-12-15T21:42:10.378009Z"
    }
   },
   "outputs": [],
   "source": [
    "# Shuffle data\n",
    "ind = np.random.permutation(rescaled_data.shape[0])\n",
    "rescaled_data = np.take(rescaled_data, ind, axis=0)\n",
    "Y = np.take(Y, ind)"
   ]
  },
  {
   "cell_type": "code",
   "execution_count": 27,
   "metadata": {
    "ExecuteTime": {
     "end_time": "2019-12-15T21:42:47.224952Z",
     "start_time": "2019-12-15T21:42:47.198428Z"
    }
   },
   "outputs": [],
   "source": [
    "# Convert labels into one hot encoding\n",
    "onehot_encoder = OneHotEncoder(sparse=False, categories='auto')\n",
    "targets = onehot_encoder.fit_transform(Y.values.reshape(-1,1))"
   ]
  },
  {
   "cell_type": "markdown",
   "metadata": {},
   "source": [
    "# Train-Test Split"
   ]
  },
  {
   "cell_type": "code",
   "execution_count": 29,
   "metadata": {
    "ExecuteTime": {
     "end_time": "2019-12-15T21:42:51.146189Z",
     "start_time": "2019-12-15T21:42:47.241474Z"
    }
   },
   "outputs": [],
   "source": [
    "# Split the data for training and validation\n",
    "X_train, X_test, y_train, y_test = train_test_split(rescaled_data, targets, test_size=0.2, random_state=5)"
   ]
  },
  {
   "cell_type": "code",
   "execution_count": 30,
   "metadata": {
    "ExecuteTime": {
     "end_time": "2019-12-15T21:42:51.153513Z",
     "start_time": "2019-12-15T21:42:51.148161Z"
    }
   },
   "outputs": [
    {
     "name": "stdout",
     "output_type": "stream",
     "text": [
      "X_train : (3326, 257, 417, 1)\n",
      "Y_train: (3326, 20)\n",
      "X_test: (832, 257, 417, 1)\n",
      "Y_test: (832, 20)\n"
     ]
    }
   ],
   "source": [
    "print('X_train : {}'.format(X_train.shape))\n",
    "print('Y_train: {}'.format(y_train.shape))\n",
    "print('X_test: {}'.format(X_test.shape))\n",
    "print('Y_test: {}'.format(y_test.shape))"
   ]
  },
  {
   "cell_type": "markdown",
   "metadata": {},
   "source": [
    "# 2D modelling\n",
    "## Data architecture\n",
    "\n",
    "**Important note!** Keras can work either with Tensorflow background or Theano. They differ in one crucial aspect - shape of the data.\n",
    "\n",
    "Tensorflow requires the data to be stored in the following way (for 1D CNN):\n",
    "\n",
    "- n_samples, n_features, n_channels\n",
    "\n",
    "Whereas Theano requires:\n",
    "\n",
    "- n_samples, n_channels, n_features\n",
    "\n",
    "Channel in case of 2D CNN denotes to amount of colors on the image but in case of 1D it can be used to express one feature based on two datasets.\n",
    "\n",
    "Make sure that the shape of the data is correct with respect to the Tensorflow."
   ]
  },
  {
   "cell_type": "code",
   "execution_count": 31,
   "metadata": {
    "ExecuteTime": {
     "end_time": "2019-12-15T21:42:51.459370Z",
     "start_time": "2019-12-15T21:42:51.156048Z"
    }
   },
   "outputs": [],
   "source": [
    "model = Sequential()\n",
    "model.add(Conv2D(filters=40, kernel_size=(3,3), activation=\"relu\", input_shape=(X_train.shape[1], X_train.shape[2],1)))\n",
    "model.add(MaxPool2D((2,2)))\n",
    "#model.add(SpatialDropout1D(0.2))\n",
    "\n",
    "model.add(Conv2D(filters=20, kernel_size=(3,3), activation=\"relu\"))\n",
    "model.add(MaxPool2D((2,2)))\n",
    "#model.add(Dropout(0.2))\n",
    "\n",
    "# Flatten your convolutional part to fit the dense part of the model\n",
    "model.add(Flatten())\n",
    "\n",
    "model.add(Dense(200, activation=\"relu\"))\n",
    "model.add(Dense(Y_count_labels, activation=\"softmax\"))"
   ]
  },
  {
   "cell_type": "code",
   "execution_count": 32,
   "metadata": {
    "ExecuteTime": {
     "end_time": "2019-12-15T21:42:51.465447Z",
     "start_time": "2019-12-15T21:42:51.461198Z"
    }
   },
   "outputs": [
    {
     "name": "stdout",
     "output_type": "stream",
     "text": [
      "Model: \"sequential\"\n",
      "_________________________________________________________________\n",
      "Layer (type)                 Output Shape              Param #   \n",
      "=================================================================\n",
      "conv2d (Conv2D)              (None, 255, 415, 40)      400       \n",
      "_________________________________________________________________\n",
      "max_pooling2d (MaxPooling2D) (None, 127, 207, 40)      0         \n",
      "_________________________________________________________________\n",
      "conv2d_1 (Conv2D)            (None, 125, 205, 20)      7220      \n",
      "_________________________________________________________________\n",
      "max_pooling2d_1 (MaxPooling2 (None, 62, 102, 20)       0         \n",
      "_________________________________________________________________\n",
      "flatten (Flatten)            (None, 126480)            0         \n",
      "_________________________________________________________________\n",
      "dense (Dense)                (None, 200)               25296200  \n",
      "_________________________________________________________________\n",
      "dense_1 (Dense)              (None, 20)                4020      \n",
      "=================================================================\n",
      "Total params: 25,307,840\n",
      "Trainable params: 25,307,840\n",
      "Non-trainable params: 0\n",
      "_________________________________________________________________\n"
     ]
    }
   ],
   "source": [
    "model.summary()"
   ]
  },
  {
   "cell_type": "markdown",
   "metadata": {},
   "source": [
    "## Callback functions\n",
    "\n",
    "Callback functions, as the name suggests, are type of functions that are called by particular part of your code the moment it executes and process the data. In the following case I created the simple class than can be used to plot the value of loss function and accuracy during the training/validation of the model.\n",
    "\n",
    "It will be called by `fit` method of `Sequential` object in order to train the model."
   ]
  },
  {
   "cell_type": "code",
   "execution_count": 33,
   "metadata": {
    "ExecuteTime": {
     "end_time": "2019-12-15T21:42:51.488699Z",
     "start_time": "2019-12-15T21:42:51.468230Z"
    }
   },
   "outputs": [],
   "source": [
    "# real time plotting\n",
    "class PlotLosses(Callback):\n",
    "    def on_train_begin(self, logs={}):\n",
    "        self.i = 0\n",
    "        self.x = []\n",
    "        self.losses = []\n",
    "        self.accuracies = []\n",
    "        self.val_losses = []\n",
    "        self.val_accuracies = []\n",
    "        \n",
    "        self.fig = plt.figure()\n",
    "        \n",
    "        self.logs = []\n",
    "\n",
    "    def on_epoch_end(self, epoch, logs={}):\n",
    "        \n",
    "        self.logs.append(logs)\n",
    "        self.x.append(self.i)\n",
    "        self.losses.append(logs.get('loss'))\n",
    "        self.accuracies.append(logs.get('acc'))\n",
    "        self.val_losses.append(logs.get('val_loss'))\n",
    "        self.val_accuracies.append(logs.get('val_acc'))\n",
    "        self.i += 1\n",
    "        \n",
    "        clear_output(wait=True)\n",
    "        plt.plot(self.x, self.losses, label=\"loss\")\n",
    "        plt.plot(self.x, self.accuracies, label=\"accuracy\")\n",
    "        plt.plot(self.x, self.val_losses, label=\"val_loss\")\n",
    "        plt.plot(self.x, self.val_accuracies, label=\"val_accuracy\")\n",
    "        plt.legend(loc='center left', bbox_to_anchor=(1, 0.5))\n",
    "        plt.show();\n",
    "        \n",
    "plot_losses = PlotLosses()"
   ]
  },
  {
   "cell_type": "markdown",
   "metadata": {},
   "source": [
    "## Modelling"
   ]
  },
  {
   "cell_type": "code",
   "execution_count": 37,
   "metadata": {
    "ExecuteTime": {
     "end_time": "2019-12-15T21:43:26.325729Z",
     "start_time": "2019-12-15T21:43:26.321547Z"
    }
   },
   "outputs": [],
   "source": [
    "import collections\n",
    "\n",
    "try:\n",
    "    collectionsAbc = collections.abc\n",
    "except AttributeError:\n",
    "    collectionsAbc = collections"
   ]
  },
  {
   "cell_type": "code",
   "execution_count": 38,
   "metadata": {
    "ExecuteTime": {
     "end_time": "2019-12-15T21:43:26.756415Z",
     "start_time": "2019-12-15T21:43:26.680852Z"
    }
   },
   "outputs": [],
   "source": [
    "opt = optimizers.Adam(lr=0.001)\n",
    "model.compile(optimizer=opt, \n",
    "              loss='categorical_crossentropy', \n",
    "              metrics=[\"acc\"])"
   ]
  },
  {
   "cell_type": "code",
   "execution_count": 39,
   "metadata": {
    "ExecuteTime": {
     "end_time": "2019-12-15T21:48:22.903716Z",
     "start_time": "2019-12-15T21:43:27.296985Z"
    }
   },
   "outputs": [
    {
     "data": {
      "image/png": "[encoded data removed]",
      "text/plain": [
       "<Figure size 432x288 with 1 Axes>"
      ]
     },
     "metadata": {
      "needs_background": "light"
     },
     "output_type": "display_data"
    },
    {
     "name": "stdout",
     "output_type": "stream",
     "text": [
      "\b\b\b\b\b\b\b\b\b\b\b\b\b\b\b\b\b\b\b\b\b\b\b\b\b\b\b\b\b\b\b\b\b\b\b\b\b\b\b\b\b\b\b\b\b\b\b\b\b\b\b\b\b\b\b\b\b\b\b\b\b\b\b\b\b\b\b\b\b\b\b\b\b\b\b\b\b\b\b\b\b\r",
      "3326/3326 [==============================] - 151s 45ms/sample - loss: 2.2965 - acc: 0.3019 - val_loss: 2.2916 - val_acc: 0.2764\n"
     ]
    },
    {
     "data": {
      "text/plain": [
       "<tensorflow.python.keras.callbacks.History at 0x14f5d9810>"
      ]
     },
     "execution_count": 39,
     "metadata": {},
     "output_type": "execute_result"
    }
   ],
   "source": [
    "model.fit(X_train, y_train,\n",
    "          epochs=2,\n",
    "          batch_size=100,\n",
    "          validation_data=(X_test, y_test),\n",
    "          callbacks=[plot_losses])"
   ]
  },
  {
   "cell_type": "markdown",
   "metadata": {},
   "source": [
    "## Evaluate"
   ]
  },
  {
   "cell_type": "code",
   "execution_count": 40,
   "metadata": {
    "ExecuteTime": {
     "end_time": "2019-12-15T21:48:31.904255Z",
     "start_time": "2019-12-15T21:48:22.912566Z"
    }
   },
   "outputs": [
    {
     "name": "stderr",
     "output_type": "stream",
     "text": [
      "/Users/christopher.zerafa/.local/lib/python3.7/site-packages/tensorflow_core/python/keras/engine/training_v2_utils.py:364: DeprecationWarning: Using or importing the ABCs from 'collections' instead of from 'collections.abc' is deprecated since Python 3.3,and in 3.9 it will stop working\n",
      "  if isinstance(inputs, collections.Sequence):\n"
     ]
    }
   ],
   "source": [
    "y_predicted = model.predict(X_test)"
   ]
  },
  {
   "cell_type": "code",
   "execution_count": 68,
   "metadata": {
    "ExecuteTime": {
     "end_time": "2019-12-15T21:57:06.852306Z",
     "start_time": "2019-12-15T21:57:06.845824Z"
    }
   },
   "outputs": [
    {
     "data": {
      "text/plain": [
       "array([[  0,   0,   4,   0,   0,   0,   0,   0,   0,   7,   0,   0,   0,\n",
       "          0,   0,   0,   0,   0,   0,   0],\n",
       "       [  0,   0,   4,   0,   0,   0,   0,   0,   0,   0,   0,   0,   0,\n",
       "          0,   0,   0,   0,   0,   0,   0],\n",
       "       [  0,   0, 230,   0,   0,   0,   0,   0,   0,   0,   0,   0,   0,\n",
       "          0,   0,   0,   0,   0,   0,   0],\n",
       "       [  0,   0,   5,   0,   0,   0,   0,   0,   0,   0,   0,   0,   0,\n",
       "          0,   0,   0,   0,   0,   0,   0],\n",
       "       [  0,   0,  62,   0,   0,   0,   0,   0,   0,   4,   0,   0,   0,\n",
       "          0,   0,   0,   0,   0,   0,   0],\n",
       "       [  0,   0,   1,   0,   0,   0,   0,   0,   0,   0,   0,   0,   0,\n",
       "          0,   0,   0,   0,   0,   0,   0],\n",
       "       [  0,   0,  95,   0,   0,   0,   0,   0,   0,   0,   0,   0,   0,\n",
       "          0,   0,   0,   0,   0,   0,   0],\n",
       "       [  0,   0,  48,   0,   0,   0,   0,   0,   0,   0,   0,   0,   0,\n",
       "          0,   0,   0,   0,   0,   0,   0],\n",
       "       [  0,   0,  69,   0,   0,   0,   0,   0,   0,   0,   0,   0,   0,\n",
       "          0,   0,   0,   0,   0,   0,   0],\n",
       "       [  0,   0,  57,   0,   0,   0,   0,   0,   0,   0,   0,   0,   0,\n",
       "          0,   0,   0,   0,   0,   0,   0],\n",
       "       [  0,   0,   3,   0,   0,   0,   0,   0,   0,   0,   0,   0,   0,\n",
       "          0,   0,   0,   0,   0,   0,   0],\n",
       "       [  0,   0,  23,   0,   0,   0,   0,   0,   0,   0,   0,   0,   0,\n",
       "          0,   0,   0,   0,   0,   0,   0],\n",
       "       [  0,   0,   4,   0,   0,   0,   0,   0,   0,   0,   0,   0,   0,\n",
       "          0,   0,   0,   0,   0,   0,   0],\n",
       "       [  0,   0,  56,   0,   0,   0,   0,   0,   0,   0,   0,   0,   0,\n",
       "          0,   0,   0,   0,   0,   0,   0],\n",
       "       [  0,   0,  12,   0,   0,   0,   0,   0,   0,   0,   0,   0,   0,\n",
       "          0,   0,   0,   0,   0,   0,   0],\n",
       "       [  0,   0,  72,   0,   0,   0,   0,   0,   0,   0,   0,   0,   0,\n",
       "          0,   0,   0,   0,   0,   0,   0],\n",
       "       [  0,   0,  43,   0,   0,   0,   0,   0,   0,   0,   0,   0,   0,\n",
       "          0,   0,   0,   0,   0,   0,   0],\n",
       "       [  0,   0,  14,   0,   0,   0,   0,   0,   0,   0,   0,   0,   0,\n",
       "          0,   0,   0,   0,   0,   0,   0],\n",
       "       [  0,   0,   1,   0,   0,   0,   0,   0,   0,   0,   0,   0,   0,\n",
       "          0,   0,   0,   0,   0,   0,   0],\n",
       "       [  0,   0,  18,   0,   0,   0,   0,   0,   0,   0,   0,   0,   0,\n",
       "          0,   0,   0,   0,   0,   0,   0]])"
      ]
     },
     "execution_count": 68,
     "metadata": {},
     "output_type": "execute_result"
    }
   ],
   "source": [
    "cms = confusion_matrix(y_test.argmax(1), y_predicted.argmax(1))\n",
    "cms"
   ]
  },
  {
   "cell_type": "code",
   "execution_count": 42,
   "metadata": {
    "ExecuteTime": {
     "end_time": "2019-12-15T21:48:31.925427Z",
     "start_time": "2019-12-15T21:48:31.922431Z"
    }
   },
   "outputs": [],
   "source": [
    "test_score = np.trace(cms) / np.sum(cms)"
   ]
  },
  {
   "cell_type": "code",
   "execution_count": 72,
   "metadata": {
    "ExecuteTime": {
     "end_time": "2019-12-15T21:57:51.555767Z",
     "start_time": "2019-12-15T21:57:50.603422Z"
    }
   },
   "outputs": [
    {
     "data": {
      "image/png": "[encoded data removed]",
      "text/plain": [
       "<Figure size 1296x1008 with 2 Axes>"
      ]
     },
     "metadata": {
      "needs_background": "light"
     },
     "output_type": "display_data"
    }
   ],
   "source": [
    "fig = plt.figure(figsize=(18, 14))\n",
    "ax = fig.add_subplot(111)\n",
    "im = ax.imshow(np.transpose(cms), interpolation=\"nearest\", cmap=\"cool\")\n",
    "rows = cms.shape[0]\n",
    "cols = cms.shape[1]\n",
    "for x in range(0, rows):\n",
    "    for y in range(0, cols):\n",
    "        value = int(cms[x, y])\n",
    "        ax.text(x, y, value, color=\"black\", ha=\"center\", va=\"center\")\n",
    "plt.title(\"Real vs Predicted data : Accuracy: {}\".format(test_score))\n",
    "plt.colorbar(im)\n",
    "\n",
    "classes_values = range(Y_count_labels)\n",
    "classes_labels = [str(x) for x in range(Y_count_labels)]\n",
    "\n",
    "plt.xticks(classes_values, classes_labels)\n",
    "plt.yticks(classes_values, classes_labels)\n",
    "plt.xlabel(\"Real data\")\n",
    "plt.ylabel(\"Predicted data\")\n",
    "plt.show()"
   ]
  }
 ],
 "metadata": {
  "hide_input": false,
  "kernelspec": {
   "display_name": "Python 3",
   "language": "python",
   "name": "python3"
  },
  "language_info": {
   "codemirror_mode": {
    "name": "ipython",
    "version": 3
   },
   "file_extension": ".py",
   "mimetype": "text/x-python",
   "name": "python",
   "nbconvert_exporter": "python",
   "pygments_lexer": "ipython3",
   "version": "3.7.5"
  },
  "toc": {
   "base_numbering": 1,
   "nav_menu": {},
   "number_sections": true,
   "sideBar": true,
   "skip_h1_title": false,
   "title_cell": "Table of Contents",
   "title_sidebar": "Contents",
   "toc_cell": false,
   "toc_position": {
    "height": "calc(100% - 180px)",
    "left": "10px",
    "top": "150px",
    "width": "336px"
   },
   "toc_section_display": true,
   "toc_window_display": true
  }
 },
 "nbformat": 4,
 "nbformat_minor": 2
}
